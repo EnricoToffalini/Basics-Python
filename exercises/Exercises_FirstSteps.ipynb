{
  "nbformat": 4,
  "nbformat_minor": 0,
  "metadata": {
    "colab": {
      "provenance": []
    },
    "kernelspec": {
      "name": "python3",
      "display_name": "Python 3"
    },
    "language_info": {
      "name": "python"
    }
  },
  "cells": [
    {
      "cell_type": "markdown",
      "source": [
        "# Exercises - First Steps\n",
        "*Basics of Python for Data Science*"
      ],
      "metadata": {
        "id": "OXS7Zamh58HM"
      }
    },
    {
      "cell_type": "markdown",
      "source": [
        "## Creating objects"
      ],
      "metadata": {
        "id": "ndWZetZT6J5q"
      }
    },
    {
      "cell_type": "markdown",
      "source": [
        "Create an object with a name allowed in Python and assign it a numerical value, then print it"
      ],
      "metadata": {
        "id": "4l6MxLwgDc_I"
      }
    },
    {
      "cell_type": "code",
      "source": [],
      "metadata": {
        "id": "yKuKSOyUDiXY"
      },
      "execution_count": null,
      "outputs": []
    },
    {
      "cell_type": "markdown",
      "source": [
        "Create a second object with a different, allowed name, and use it to store the value of the first object squared"
      ],
      "metadata": {
        "id": "hwbagVktDlHY"
      }
    },
    {
      "cell_type": "code",
      "source": [],
      "metadata": {
        "id": "w5GlTg-wDqBu"
      },
      "execution_count": null,
      "outputs": []
    },
    {
      "cell_type": "markdown",
      "source": [
        "Try to create another object with a non-allowed name and see what happens"
      ],
      "metadata": {
        "id": "PTjcb4OpDqVX"
      }
    },
    {
      "cell_type": "code",
      "source": [],
      "metadata": {
        "id": "6zlxBTHYDs64"
      },
      "execution_count": null,
      "outputs": []
    },
    {
      "cell_type": "markdown",
      "source": [
        "Create an object and assign it the string `\"I love programming :-)\"`, then:\n",
        "*   use `type()` to inspect the type of the object and make sure that it is a string;\n",
        "*   repeat the same for an integer and a for floating-point object."
      ],
      "metadata": {
        "id": "gd0aygG6gtsX"
      }
    },
    {
      "cell_type": "code",
      "source": [],
      "metadata": {
        "id": "I0dweB5mDvbX"
      },
      "execution_count": null,
      "outputs": []
    },
    {
      "cell_type": "markdown",
      "source": [
        "Multiply the previously created string $\\times 10$ and see what happens"
      ],
      "metadata": {
        "id": "j5xFEAtKruri"
      }
    },
    {
      "cell_type": "code",
      "source": [],
      "metadata": {
        "id": "elFykvLMoyJ1"
      },
      "execution_count": null,
      "outputs": []
    },
    {
      "cell_type": "markdown",
      "source": [
        "## Basic operations, functions, and data types"
      ],
      "metadata": {
        "id": "M9mpfJMTDzgf"
      }
    },
    {
      "cell_type": "markdown",
      "source": [
        "Compute the following operations (hint: `import math` for some operations, and know that $π$ can be found as an object inside `math`):\n",
        "*  $\\frac{9}{11} + 10$\n",
        "*  $\\sqrt{941}$\n",
        "*  $5.6^3$\n",
        "*  $\\frac{\\sqrt{2 \\times 5}\\ + 6}{4}$\n",
        "*  $π \\times (7^2 - \\frac{9.2}{10}) $\n",
        "*  $log_2 50$"
      ],
      "metadata": {
        "id": "AmhbmxwXD12Y"
      }
    },
    {
      "cell_type": "code",
      "source": [],
      "metadata": {
        "id": "t66Th_FjoH_i"
      },
      "execution_count": null,
      "outputs": []
    },
    {
      "cell_type": "markdown",
      "source": [
        "Store the last of the previous results as an object, then use the appropriate relational operator to see if it is *greater than or equal to* $10$"
      ],
      "metadata": {
        "id": "fnVCxTnxoHrj"
      }
    },
    {
      "cell_type": "code",
      "source": [],
      "metadata": {
        "id": "HDztHRN-D1Xe"
      },
      "execution_count": null,
      "outputs": []
    },
    {
      "cell_type": "markdown",
      "source": [
        "Round the previously created object to the third digit using the appropriate function for rounding"
      ],
      "metadata": {
        "id": "24XbYa3qi88Y"
      }
    },
    {
      "cell_type": "code",
      "source": [],
      "metadata": {
        "id": "u78UKyC6jzGu"
      },
      "execution_count": null,
      "outputs": []
    },
    {
      "cell_type": "markdown",
      "source": [
        "Use the appropriate relational operator to determine whether $3^2$ + $4^2$ is *equal* to $5^2$ (if this is true, then $3, 4, 5$ is a Pythagorean triple)"
      ],
      "metadata": {
        "id": "vP8ZdU2yjifC"
      }
    },
    {
      "cell_type": "code",
      "source": [],
      "metadata": {
        "id": "Ut76UK21jxa1"
      },
      "execution_count": null,
      "outputs": []
    },
    {
      "cell_type": "markdown",
      "source": [
        "`import time`, then open the help/documentation for both the `time` module and for the `time()` function inside it, and see what they do. Then run the `time()` function and calculate what is the *beginning of time* according to Python"
      ],
      "metadata": {
        "id": "8pLnaaEPlFhb"
      }
    },
    {
      "cell_type": "code",
      "source": [],
      "metadata": {
        "id": "Hr_9isQllYfK"
      },
      "execution_count": null,
      "outputs": []
    },
    {
      "cell_type": "markdown",
      "source": [
        "## Lists, Tuples, Dictionaries, and indexing"
      ],
      "metadata": {
        "id": "p5On3olopNya"
      }
    },
    {
      "cell_type": "markdown",
      "source": [
        "Create a new list object with `[ ]` and fill it with objects of different types, then:\n",
        "*   check its `type()`\n",
        "*   check the `type()` of its first element using appropriate indexing with `[ ]`;\n",
        "*   check the `type()` of its last element using appropriate indexing with `[ ]`;\n",
        "*   try to multiply the whole list $\\times 5$ and understand what happens;\n",
        "*   try to add $+5$ to the whole list and understand why it doesn't work;\n",
        "*   replace the first element in the list with another element and make sure that it worked."
      ],
      "metadata": {
        "id": "xMHaOaenlX4Z"
      }
    },
    {
      "cell_type": "code",
      "source": [],
      "metadata": {
        "id": "YdH2JHcwneGX"
      },
      "execution_count": null,
      "outputs": []
    },
    {
      "cell_type": "markdown",
      "source": [
        "On the previously created string:\n",
        "*  use the `.append()` method to add a new object at the end of it;\n",
        "*  correctly use the `+` operator to add a new object at the end of it (hint: you can only concatenate a list to another list);\n",
        "*  use the `len()` function to examine the length of the list."
      ],
      "metadata": {
        "id": "3g7L3indne_3"
      }
    },
    {
      "cell_type": "code",
      "source": [],
      "metadata": {
        "id": "a9WEcynBppTk"
      },
      "execution_count": null,
      "outputs": []
    },
    {
      "cell_type": "markdown",
      "source": [
        "Use the `dir()` function to inspect the methods that can be applied to objects of different types (such as list, string, integer, float), then:\n",
        "*  identify some method that attracts you interest;\n",
        "*  inspect the help/documentation of the chosen method;\n",
        "*  apply it correctly to the relative object using the \"`.`\" operator."
      ],
      "metadata": {
        "id": "ipp3Xl2Cpph7"
      }
    },
    {
      "cell_type": "code",
      "source": [],
      "metadata": {
        "id": "ukF9P-mSvkQE"
      },
      "execution_count": null,
      "outputs": []
    },
    {
      "cell_type": "markdown",
      "source": [
        "Create a new tuple object that is equal to a previously created list, but create it using `( )` instead of `[ ]`, then:\n",
        "*  print the first element in the tuple using the appropriate indexing with `[ ]`;\n",
        "*  try to replace the first element in the tuple, and see that it fails;\n",
        "*  use the `dir()` function to inspect the methods that can be applied to the tuple object (and see that they are fewer than the methods that can be applied to a list object)."
      ],
      "metadata": {
        "id": "ZWhe9w1Hvkok"
      }
    },
    {
      "cell_type": "code",
      "source": [],
      "metadata": {
        "id": "63aKK2CpwkHV"
      },
      "execution_count": null,
      "outputs": []
    },
    {
      "cell_type": "markdown",
      "source": [
        "Create a new dictionary object with `{ }` and fill it with different objects and lists (an example is `myDict = {\"x\": [1,0.2], \"y\": [\"a\",\"b\"], \"z\": 10}`, but try to create one that could make sense, for example one with a person's name, personal data, scores) then:\n",
        "*  use the `type()` function to make sure it is a dictionary;\n",
        "*  try to access the first element with `[ ]` using an integer index as previously done with the list and tuple, and see that it fails;\n",
        "*  use the `.keys()` method to view all the keys in your dictionary (i.e., the names of all the objects/entries in it);\n",
        "*  access a specific in your dictionary using `[ ]` with a valid key (e.g., myDict[\"x\"]."
      ],
      "metadata": {
        "id": "a3HvzkZkyWsv"
      }
    },
    {
      "cell_type": "code",
      "source": [],
      "metadata": {
        "id": "xZiTRyFbz26A"
      },
      "execution_count": null,
      "outputs": []
    },
    {
      "cell_type": "markdown",
      "source": [
        "## Working directory, Packages, Import/Export"
      ],
      "metadata": {
        "id": "VuQKeunuk2g2"
      }
    },
    {
      "cell_type": "markdown",
      "source": [
        "Use the `getcwd()` function from the `os` module to see the current working directory"
      ],
      "metadata": {
        "id": "JsHMREG7195P"
      }
    },
    {
      "cell_type": "code",
      "source": [],
      "metadata": {
        "id": "dv8QCdpe0JD4"
      },
      "execution_count": null,
      "outputs": []
    },
    {
      "cell_type": "markdown",
      "source": [
        "Import the `numpy` package with the alias `np`, then:\n",
        "*  use the `dir()` function to inspect all functions available in it;\n",
        "*  use the `help()` function to inspect the documentation of one or more of the `numpy` functions that have picked your interest;\n",
        "*  correctly use that/those function(s)."
      ],
      "metadata": {
        "id": "vAjhNjYoDtJA"
      }
    },
    {
      "cell_type": "code",
      "source": [],
      "metadata": {
        "id": "nmpVBpg12MDf"
      },
      "execution_count": null,
      "outputs": []
    },
    {
      "cell_type": "markdown",
      "source": [
        "Download [this dataset](https://drive.google.com/file/d/1EOFYAO8vumHxMmQADdm-jswgk39w7C7l/view?usp=sharing) locally, then run the following chunk of code to import it:"
      ],
      "metadata": {
        "id": "rNiRVwPy2K3N"
      }
    },
    {
      "cell_type": "code",
      "source": [
        "from google.colab import files\n",
        "import pandas as pd\n",
        "uploaded = files.upload()\n",
        "df = pd.read_csv('Performance.csv')"
      ],
      "metadata": {
        "id": "w1Y4ZL9f6cRz"
      },
      "execution_count": null,
      "outputs": []
    },
    {
      "cell_type": "markdown",
      "source": [
        "...hoping that the the importing worked successfully, use the `dir()` function to inspect all methods that can be applied to the just imported `df`, then:\n",
        "*  apply one or two of those methods and see what happens;\n",
        "*  in any case apply the `.head()` and the `.tail()` methods."
      ],
      "metadata": {
        "id": "KIgPhYUG23q_"
      }
    },
    {
      "cell_type": "code",
      "source": [],
      "metadata": {
        "id": "H7So1K6425e9"
      },
      "execution_count": null,
      "outputs": []
    },
    {
      "cell_type": "markdown",
      "source": [
        "Repeat the above operations of the **\"Working directory, Packages, Import/Export\"** section locally in your IDE 🙂\n",
        "\n",
        "*(note: when working locally, you will not need the `google.colab.files` submodule to import data; you can import data directly using the `read_csv()` function from the `pandas` package, if you correctly specify the path relative to the working directory)*"
      ],
      "metadata": {
        "id": "o1g6H4Tn3pmY"
      }
    }
  ]
}